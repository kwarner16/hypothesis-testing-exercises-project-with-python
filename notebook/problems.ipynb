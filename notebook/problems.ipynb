{
 "cells": [
  {
   "cell_type": "markdown",
   "id": "d9d036c6",
   "metadata": {},
   "source": [
    "# Hypothesis testing problems"
   ]
  },
  {
   "cell_type": "markdown",
   "id": "d157c4db",
   "metadata": {},
   "source": [
    "## Exercise 1\n",
    "\n",
    "You are a nutritionist researching two different types of diets to see if there is a significant difference in weight loss after one month. You choose two random groups of people; one group follows the first diet, and the other follows the second. At the end of the month, you record the weight loss (in kg) for each person:\n",
    "\n",
    "| Diet 1 | Diet 2 |\n",
    "|:-------|:-------|\n",
    "| 2.0 | 3.0 |\n",
    "| 2.5 | 3.2 |\n",
    "| 3.0 | 3.1 |\n",
    "| 2.8 | 2.9 |\n",
    "| 2.3 | 2.8 |\n",
    "| 2.7 | 3.0 |\n",
    "| 2.5 | 3.2 |\n",
    "\n",
    "With these data, it seeks to answer the following question: Is there a significant difference in average weight loss between people who followed the first diet and those who followed the second diet?\n",
    "\n",
    "To draw conclusions, follow the points below:\n",
    "\n",
    "- State the hypothesis: null and alternative hypothesis.\n",
    "- Perform the test to test the hypothesis. You can use a Student's t-test.\n",
    "- Analyze the conclusions."
   ]
  },
  {
   "cell_type": "code",
   "execution_count": 1,
   "id": "8e0f3cf0",
   "metadata": {},
   "outputs": [
    {
     "name": "stdout",
     "output_type": "stream",
     "text": [
      "The null hypothesis claims there is no significant difference between Diet 1 and Diet 2.\n",
      "The alternative hypothesis claims there is a significant differnece between Diet 1 and Diet 2.\n",
      "T-Statistics: -3.5383407969933938\n",
      "P-Value: 0.004083270191713912\n",
      "Reject the hypotheis H0\n"
     ]
    }
   ],
   "source": [
    "# Import libraries\n",
    "import numpy as np\n",
    "\n",
    "from scipy.stats import ttest_ind\n",
    "\n",
    "#TODO Formulate Null / Alternative Hypotheses\n",
    "print(\"The null hypothesis claims there is no significant difference between Diet 1 and Diet 2.\")\n",
    "print(\"The alternative hypothesis claims there is a significant differnece between Diet 1 and Diet 2.\")\n",
    "\n",
    "#TODO Test Hypothesis using Student's T-Test\n",
    "\n",
    "# Create samples\n",
    "diet1_sample = np.array([2.0, 2.5, 3.0, 2.8, 2.3, 2.7, 2.5])\n",
    "diet2_sample = np.array([3.0, 3.2, 3.1, 2.9, 2.8, 3.0, 3.2])\n",
    "\n",
    "# Calculate p-value\n",
    "t_stat, p_value = ttest_ind(diet1_sample, diet2_sample)\n",
    "\n",
    "print(f\"T-Statistics: {t_stat}\")\n",
    "print(f\"P-Value: {p_value}\")\n",
    "\n",
    "#TODO Analyze the Conclusions\n",
    "if p_value >= .05:\n",
    "    print(\"Fail to reject the hypothesis H0\")\n",
    "elif p_value < .05:\n",
    "    print(\"Reject the hypotheis H0\")\n"
   ]
  },
  {
   "cell_type": "markdown",
   "id": "f432e18e",
   "metadata": {},
   "source": [
    "## ANOVA\n",
    "\n",
    "**ANOVA** (*Analysis of Variance*) is a statistical technique used to compare the measures of two or more groups. The idea behind ANOVA is to decompose the total variability in the data into two components: between-group variability and within-group variability:\n",
    "\n",
    "- **Between-group variability**: This variability refers to the differences between the group means. If this variability is considerably larger than the within-group variability, it could be an indication that at least one of the group means is different.\n",
    "- **Within-group variability**: This variability refers to the dispersion of the data within each group. If all groups have similar variability, then any noticeable difference in group means could be considered significant.\n",
    "\n",
    "Hypotheses in ANOVA typically include:\n",
    "\n",
    "- **Null hypothesis** ($H₀$): The means of all groups are equal.\n",
    "- **Alternative hypothesis** ($H₁$): At least one of the group means is different.\n",
    "\n",
    "If the ANOVA test result is significant (e.g., a p-value less than a threshold such as 0.05), this suggests that at least one group mean is different."
   ]
  },
  {
   "cell_type": "markdown",
   "id": "fc5f3721",
   "metadata": {},
   "source": [
    "## Exercise 2\n",
    "\n",
    "A farmer decides to test three different types of fertilizers to determine if one is superior in terms of corn production. The farmer plants corn on 15 identical plots and uses all three fertilizers (5 plots for each type). At the end of the season, he measures the corn yield (in kg) of each plot, with the following result:\n",
    "\n",
    "| Fertilizer 1 | Fertilizer 2 | Fertilizer 3 |\n",
    "|:-------------|:-------------|:-------------|\n",
    "| 20 | 22 | 24 |\n",
    "| 21 | 21 | 23 |\n",
    "| 20 | 23 | 22 |\n",
    "| 19 | 22 | 23 |\n",
    "| 20 | 21 | 24 |\n",
    "\n",
    "With this data, he seeks to answer the following question: Is there a significant difference in average corn yield between the three types of fertilizers?\n",
    "\n",
    "To help you, follow the points below:\n",
    "\n",
    "- State the hypothesis: null and alternative hypothesis.\n",
    "- Perform the ANOVA test.\n",
    "- Analyze the conclusions.\n",
    "- If one fertilizer is better than another, how can we know it?"
   ]
  },
  {
   "cell_type": "code",
   "execution_count": null,
   "id": "eecad0ca",
   "metadata": {},
   "outputs": [
    {
     "name": "stdout",
     "output_type": "stream",
     "text": [
      "The null hypothesis claims there is no difference in production between the 3 fertilizers.\n",
      "The alternative hypothesis claims that there is a difference in production between one or more of the fertilizers.\n",
      "F-Value: 20.315789473684188\n",
      "P-Value: 0.00014047824793190472\n",
      "Reject the hypothesis H0.\n",
      "\n",
      " Multiple Comparison of Means - Tukey HSD, FWER=0.05\n",
      "==================================================\n",
      "group1 group2 meandiff p-adj  lower  upper  reject\n",
      "--------------------------------------------------\n",
      "    F1     F2      1.8 0.0099 0.4572 3.1428   True\n",
      "    F1     F3      3.2 0.0001 1.8572 4.5428   True\n",
      "    F2     F3      1.4 0.0409 0.0572 2.7428   True\n",
      "--------------------------------------------------\n"
     ]
    }
   ],
   "source": [
    "# Import libraries\n",
    "import pandas as pd\n",
    "\n",
    "from scipy.stats import f_oneway\n",
    "from statsmodels.stats.multicomp import pairwise_tukeyhsd\n",
    "\n",
    "#TODO Define Hypotheses\n",
    "print(\"The null hypothesis claims there is no difference in production between the 3 fertilizers.\")\n",
    "print(\"The alternative hypothesis claims that there is a difference in production between one or more of the fertilizers.\")\n",
    "\n",
    "#TODO Test Hypothesis Using ANOVA\n",
    "\n",
    "# Create samples\n",
    "f1 = np.array([20, 21, 20, 19, 20])\n",
    "f2 = np.array([22, 21, 23, 22, 21])\n",
    "f3 = np.array([24, 23, 22, 23, 24])\n",
    "\n",
    "# Calculate P_value\n",
    "f_stat, p_value = f_oneway(f1, f2, f3)\n",
    "\n",
    "print(f\"F-Value: {f_stat}\")\n",
    "print(f\"P-Value: {p_value}\")\n",
    "\n",
    "#TODO Analyze Conclusions\n",
    "if p_value >= 0.05:\n",
    "    print(\"Fail to reject the hypothesis H0.\")\n",
    "elif p_value < 0.05:\n",
    "    print(\"Reject the hypothesis H0.\")\n",
    "\n",
    "    #TODO Find the better fertilizer if any\n",
    "\n",
    "    # Combine samples\n",
    "    combined_fertilizer_samples = np.concatenate([f1, f2, f3])\n",
    "\n",
    "    # Label samples\n",
    "    fertilizer_labels = (['F1'] * len(f1)) + (['F2'] * len(f2)) + (['F3'] * len(f3))\n",
    "\n",
    "    # Compare samples using pairwise_tukeyhsd\n",
    "    better_fertilizer = pairwise_tukeyhsd(combined_fertilizer_samples, fertilizer_labels)\n",
    "    print(\"\\n\", better_fertilizer)"
   ]
  }
 ],
 "metadata": {
  "kernelspec": {
   "display_name": "Python 3",
   "language": "python",
   "name": "python3"
  },
  "language_info": {
   "codemirror_mode": {
    "name": "ipython",
    "version": 3
   },
   "file_extension": ".py",
   "mimetype": "text/x-python",
   "name": "python",
   "nbconvert_exporter": "python",
   "pygments_lexer": "ipython3",
   "version": "3.11.4"
  }
 },
 "nbformat": 4,
 "nbformat_minor": 5
}
